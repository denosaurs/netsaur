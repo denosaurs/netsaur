{
 "cells": [
  {
   "cell_type": "markdown",
   "metadata": {},
   "source": [
    "### This example shows how to train a neural network to predict the output of the XOR function."
   ]
  },
  {
   "cell_type": "markdown",
   "metadata": {},
   "source": [
    "#### CPU Backend"
   ]
  },
  {
   "cell_type": "markdown",
   "metadata": {},
   "source": [
    "Setup the CPU backend. This backend is fast but doesn't work on the Edge."
   ]
  },
  {
   "cell_type": "code",
   "execution_count": 6,
   "metadata": {},
   "outputs": [
    {
     "name": "stdout",
     "output_type": "stream",
     "text": [
      "\u001b[32mCopying\u001b[39m file:///c:/Users/dsreb/Documents/github/netsaur/examples/target/release/netsaur.dll\n"
     ]
    }
   ],
   "source": [
    "import { CPU, setupBackend } from \"https://deno.land/x/netsaur/mod.ts\";\n",
    "await setupBackend(CPU);"
   ]
  },
  {
   "cell_type": "markdown",
   "metadata": {},
   "source": [
    "#### WASM Backend"
   ]
  },
  {
   "cell_type": "markdown",
   "metadata": {},
   "source": [
    "Setup the WASM backend. This backend is blazing fast in the browser or the edge."
   ]
  },
  {
   "cell_type": "code",
   "execution_count": 1,
   "metadata": {},
   "outputs": [
    {
     "name": "stdout",
     "output_type": "stream",
     "text": [
      "WASM Backend Initialised\n"
     ]
    }
   ],
   "source": [
    "import { setupBackend, WASM } from \"https://deno.land/x/netsaur/mod.ts\";\n",
    "await setupBackend(WASM);"
   ]
  },
  {
   "cell_type": "markdown",
   "metadata": {},
   "source": [
    "#### GPU Backend"
   ]
  },
  {
   "cell_type": "markdown",
   "metadata": {},
   "source": [
    "Eventually this will be the way to setup the GPU backend but it's not ready yet."
   ]
  },
  {
   "cell_type": "code",
   "execution_count": 2,
   "metadata": {},
   "outputs": [],
   "source": [
    "import { GPU, setupBackend } from \"https://deno.land/x/netsaur/mod.ts\";\n",
    "await setupBackend(GPU);"
   ]
  },
  {
   "cell_type": "markdown",
   "metadata": {},
   "source": [
    "Create a new Sequential neural network. A Sequential model is a linear stack of\n",
    "layers."
   ]
  },
  {
   "cell_type": "code",
   "execution_count": 3,
   "metadata": {},
   "outputs": [],
   "source": [
    "import {\n",
    "  Cost,\n",
    "  DenseLayer,\n",
    "  Sequential,\n",
    "  SigmoidLayer,\n",
    "  tensor1D,\n",
    "  tensor2D,\n",
    "} from \"https://deno.land/x/netsaur/mod.ts\";\n",
    "const net = new Sequential({\n",
    "  /**\n",
    "   * The number of minibatches is set to 4 and the output size is set to 2.\n",
    "   */\n",
    "  size: [4, 2],\n",
    "\n",
    "  /**\n",
    "   * The silent option is set to false, which means that the network will output logs during training\n",
    "   */\n",
    "  silent: false,\n",
    "\n",
    "  /**\n",
    "   * Defines the layers of a neural network in the XOR function example.\n",
    "   * The neural network has two input neurons and one output neuron.\n",
    "   * The layers are defined as follows:\n",
    "   * - A dense layer with 3 neurons.\n",
    "   * - sigmoid activation layer.\n",
    "   * - A dense layer with 1 neuron.\n",
    "   * -A sigmoid activation layer.\n",
    "   */\n",
    "  layers: [\n",
    "    DenseLayer({ size: [3] }),\n",
    "    SigmoidLayer(),\n",
    "    DenseLayer({ size: [1] }),\n",
    "    SigmoidLayer(),\n",
    "  ],\n",
    "\n",
    "  /**\n",
    "   * The cost function used for training the network is the mean squared error (MSE).\n",
    "   */\n",
    "  cost: Cost.MSE,\n",
    "});"
   ]
  },
  {
   "cell_type": "markdown",
   "metadata": {},
   "source": [
    "Once the network is created and configured we can begin training it. We will\n",
    "train it for 10000 epochs."
   ]
  },
  {
   "cell_type": "code",
   "execution_count": 4,
   "metadata": {},
   "outputs": [],
   "source": [
    "/**\n",
    " * Train the network on the given data.\n",
    " */\n",
    "net.train(\n",
    "  [\n",
    "    {\n",
    "      inputs: tensor2D([\n",
    "        [0, 0],\n",
    "        [1, 0],\n",
    "        [0, 1],\n",
    "        [1, 1],\n",
    "      ]),\n",
    "      outputs: tensor2D([[0], [1], [1], [0]]),\n",
    "    },\n",
    "  ],\n",
    "  /**\n",
    "   * The number of iterations is set to 10000.\n",
    "   */\n",
    "  10000,\n",
    ");"
   ]
  },
  {
   "cell_type": "markdown",
   "metadata": {},
   "source": [
    "Once we have trained the network we can test it by passing in the input values\n",
    "into the predict method."
   ]
  },
  {
   "cell_type": "code",
   "execution_count": 5,
   "metadata": {},
   "outputs": [
    {
     "name": "stdout",
     "output_type": "stream",
     "text": [
      "0 xor 0 = 0.029841581359505653 (should be close to 0)\n"
     ]
    }
   ],
   "source": [
    "const out1 = (await net.predict(tensor1D([0, 0]))).data;\n",
    "console.log(`0 xor 0 = ${out1[0]} (should be close to 0)`);"
   ]
  },
  {
   "cell_type": "code",
   "execution_count": 6,
   "metadata": {},
   "outputs": [
    {
     "name": "stdout",
     "output_type": "stream",
     "text": [
      "1 xor 0 = 0.9446350932121277 (should be close to 1)\n"
     ]
    }
   ],
   "source": [
    "const out2 = (await net.predict(tensor1D([1, 0]))).data;\n",
    "console.log(`1 xor 0 = ${out2[0]} (should be close to 1)`);"
   ]
  },
  {
   "cell_type": "code",
   "execution_count": 9,
   "metadata": {},
   "outputs": [
    {
     "name": "stdout",
     "output_type": "stream",
     "text": [
      "0 xor 1 = 0.955724835395813 (should be close to 1)\n"
     ]
    }
   ],
   "source": [
    "const out3 = (await net.predict(tensor1D([0, 1]))).data;\n",
    "console.log(`0 xor 1 = ${out3[0]} (should be close to 1)`);"
   ]
  },
  {
   "cell_type": "code",
   "execution_count": 12,
   "metadata": {},
   "outputs": [
    {
     "name": "stdout",
     "output_type": "stream",
     "text": [
      "1 xor 1 = 0.05740207061171532 (should be close to 0)\n"
     ]
    }
   ],
   "source": [
    "const out4 = (await net.predict(tensor1D([1, 1]))).data;\n",
    "console.log(`1 xor 1 = ${out4[0]} (should be close to 0)`);\n"
   ]
  }
 ],
 "metadata": {
  "kernelspec": {
   "display_name": "Deno",
   "language": "typescript",
   "name": "deno"
  },
  "language_info": {
   "codemirror_mode": "typescript",
   "file_extension": ".ts",
   "mimetype": "text/x.typescript",
   "name": "typescript",
   "nbconvert_exporter": "script",
   "pygments_lexer": "typescript",
   "version": "5.4.5"
  }
 },
 "nbformat": 4,
 "nbformat_minor": 2
}
