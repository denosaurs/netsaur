{
 "cells": [
  {
   "cell_type": "code",
   "execution_count": 1,
   "metadata": {},
   "outputs": [
    {
     "name": "stdout",
     "output_type": "stream",
     "text": [
      "\u001b[32mDownloading\u001b[39m https://github.com/denosaurs/netsaur/releases/download/0.2.8/netsaur.dll\n"
     ]
    },
    {
     "ename": "Error",
     "evalue": "Not implemented",
     "output_type": "error",
     "traceback": [
      "Stack trace:",
      "Error: Not implemented",
      "    at Visualizer.show (file:///C:/Users/dsreb/Documents/github/netsaur-1/visualizer/mod.ts:22:11)",
      "    at <anonymous>:64:12",
      "    at eventLoopTick (ext:core/01_core.js:183:11)"
     ]
    },
    {
     "name": "stdout",
     "output_type": "stream",
     "text": [
      "CPU Backend Initialised\n"
     ]
    }
   ],
   "source": [
    "import { Visualizer } from \"../visualizer/mod.ts\";\n",
    "\n",
    "import {\n",
    "    Cost,\n",
    "    CPU,\n",
    "    DenseLayer,\n",
    "    Sequential,\n",
    "    setupBackend,\n",
    "    SigmoidLayer,\n",
    "    tensor2D,\n",
    "  } from \"https://deno.land/x/netsaur@0.2.8/mod.ts\";\n",
    "  \n",
    "  await setupBackend(CPU);\n",
    "  \n",
    "  const net = new Sequential({\n",
    "    size: [4, 2],\n",
    "  \n",
    "    silent: true,\n",
    "  \n",
    "    layers: [\n",
    "      DenseLayer({ size: [3] }),\n",
    "      SigmoidLayer(),\n",
    "      DenseLayer({ size: [1] }),\n",
    "      SigmoidLayer(),\n",
    "    ],\n",
    "  \n",
    "    cost: Cost.MSE,\n",
    "  });\n",
    "  \n",
    "  net.train(\n",
    "    [\n",
    "      {\n",
    "        inputs: tensor2D([\n",
    "          [0, 0],\n",
    "          [1, 0],\n",
    "          [0, 1],\n",
    "          [1, 1],\n",
    "        ]),\n",
    "        outputs: tensor2D([[0], [1], [1], [0]]),\n",
    "      },\n",
    "    ],\n",
    "    1000,\n",
    "  );\n",
    "  \n",
    "\n",
    "  \n",
    "const visualizer = new Visualizer();\n",
    "visualizer.show(net)"
   ]
  }
 ],
 "metadata": {
  "kernelspec": {
   "display_name": "Deno",
   "language": "typescript",
   "name": "deno"
  },
  "language_info": {
   "file_extension": ".ts",
   "mimetype": "text/x.typescript",
   "name": "typescript",
   "nb_converter": "script",
   "pygments_lexer": "typescript",
   "version": "5.2.2"
  }
 },
 "nbformat": 4,
 "nbformat_minor": 2
}
