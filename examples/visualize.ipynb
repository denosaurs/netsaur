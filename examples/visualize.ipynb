{
 "cells": [
  {
   "cell_type": "code",
   "execution_count": 9,
   "metadata": {},
   "outputs": [
    {
     "data": {
      "application/vnd.plotly.v1+json": {
       "data": [
        {
         "line": {
          "color": "blue",
          "width": 3
         },
         "mode": "lines+markers",
         "name": "Expected",
         "type": "scatter",
         "x": [
          1,
          2,
          3,
          4
         ],
         "y": [
          0,
          1,
          1,
          0
         ]
        },
        {
         "line": {
          "color": "red",
          "width": 3
         },
         "mode": "lines+markers",
         "name": "Results",
         "type": "scatter",
         "x": [
          1,
          2,
          3,
          4
         ],
         "y": [
          0.007751879282295704,
          0.9831647872924805,
          0.9835237860679626,
          0.021515918895602226
         ]
        }
       ],
       "layout": {
        "title": "XOR Example"
       }
      }
     },
     "execution_count": 9,
     "metadata": {},
     "output_type": "execute_result"
    }
   ],
   "source": [
    "import { tensor1D } from \"../mod.ts\";\n",
    "import { Visualizer } from \"../visualizer/mod.ts\";\n",
    "\n",
    "import {\n",
    "    Cost,\n",
    "    CPU,\n",
    "    DenseLayer,\n",
    "    Sequential,\n",
    "    setupBackend,\n",
    "    SigmoidLayer,\n",
    "    tensor2D,\n",
    "  } from \"https://deno.land/x/netsaur@0.2.8/mod.ts\";\n",
    "  \n",
    "  await setupBackend(CPU);\n",
    "  \n",
    "  const net = new Sequential({\n",
    "    size: [4, 2],\n",
    "  \n",
    "    silent: true,\n",
    "  \n",
    "    layers: [\n",
    "      DenseLayer({ size: [3] }),\n",
    "      SigmoidLayer(),\n",
    "      DenseLayer({ size: [1] }),\n",
    "      SigmoidLayer(),\n",
    "    ],\n",
    "  \n",
    "    cost: Cost.MSE,\n",
    "  });\n",
    "  \n",
    "  net.train(\n",
    "    [\n",
    "      {\n",
    "        inputs: tensor2D([\n",
    "          [0, 0],\n",
    "          [1, 0],\n",
    "          [0, 1],\n",
    "          [1, 1],\n",
    "        ]),\n",
    "        outputs: tensor2D([[0], [1], [1], [0]]),\n",
    "      },\n",
    "    ],\n",
    "    50000,\n",
    "  );\n",
    "  \n",
    "\n",
    "  \n",
    "const visualizer = new Visualizer(\"XOR Example\");\n",
    "await visualizer.graph(net,\n",
    "  [\n",
    "  tensor1D([0, 0]),\n",
    "  tensor1D([1, 0]),\n",
    "  tensor1D([0, 1]),\n",
    "  tensor1D([1, 1]),\n",
    "], [\n",
    "  tensor1D([0]),\n",
    "  tensor1D([1]),\n",
    "  tensor1D([1]),\n",
    "  tensor1D([0])\n",
    "])"
   ]
  }
 ],
 "metadata": {
  "kernelspec": {
   "display_name": "Deno",
   "language": "typescript",
   "name": "deno"
  },
  "language_info": {
   "file_extension": ".ts",
   "mimetype": "text/x.typescript",
   "name": "typescript",
   "nb_converter": "script",
   "pygments_lexer": "typescript",
   "version": "5.2.2"
  }
 },
 "nbformat": 4,
 "nbformat_minor": 2
}
