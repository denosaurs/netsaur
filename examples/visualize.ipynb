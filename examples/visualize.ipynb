{
 "cells": [
  {
   "cell_type": "code",
   "execution_count": 1,
   "metadata": {},
   "outputs": [
    {
     "data": {
      "application/vnd.plotly.v1+json": {
       "data": [
        {
         "line": {
          "color": "blue",
          "width": 3
         },
         "mode": "lines+markers",
         "name": "Expected",
         "type": "scatter",
         "x": [
          1,
          2,
          3,
          4
         ],
         "y": [
          0,
          1,
          1,
          0
         ]
        },
        {
         "line": {
          "color": "red",
          "width": 3
         },
         "mode": "lines+markers",
         "name": "Results",
         "type": "scatter",
         "x": [
          1,
          2,
          3,
          4
         ],
         "y": [
          0.007869369350373745,
          0.9794451594352722,
          0.9797343611717224,
          0.024822847917675972
         ]
        }
       ],
       "layout": {
        "title": "XOR Example"
       }
      }
     },
     "execution_count": 1,
     "metadata": {},
     "output_type": "execute_result"
    },
    {
     "name": "stdout",
     "output_type": "stream",
     "text": [
      "WASM Backend Initialized\n"
     ]
    }
   ],
   "source": [
    "import { tensor1D } from \"../mod.ts\";\n",
    "import { Visualizer } from \"../visualizer/mod.ts\";\n",
    "\n",
    "import {\n",
    "    Cost,\n",
    "    WASM,\n",
    "    DenseLayer,\n",
    "    Sequential,\n",
    "    setupBackend,\n",
    "    SigmoidLayer,\n",
    "    tensor2D,\n",
    "  } from \"../mod.ts\";\n",
    "  \n",
    "  await setupBackend(WASM);\n",
    "  \n",
    "  const net = new Sequential({\n",
    "    size: [4, 2],\n",
    "  \n",
    "    silent: true,\n",
    "  \n",
    "    layers: [\n",
    "      DenseLayer({ size: [3] }),\n",
    "      SigmoidLayer(),\n",
    "      DenseLayer({ size: [1] }),\n",
    "      SigmoidLayer(),\n",
    "    ],\n",
    "  \n",
    "    cost: Cost.MSE,\n",
    "  });\n",
    "  \n",
    "  net.train(\n",
    "    [\n",
    "      {\n",
    "        inputs: tensor2D([\n",
    "          [0, 0],\n",
    "          [1, 0],\n",
    "          [0, 1],\n",
    "          [1, 1],\n",
    "        ]),\n",
    "        outputs: tensor2D([[0], [1], [1], [0]]),\n",
    "      },\n",
    "    ],\n",
    "    50000,\n",
    "  );\n",
    "  \n",
    "\n",
    "  \n",
    "const visualizer = new Visualizer(\"XOR Example\");\n",
    "await visualizer.graph(net,\n",
    "  [\n",
    "  tensor1D([0, 0]),\n",
    "  tensor1D([1, 0]),\n",
    "  tensor1D([0, 1]),\n",
    "  tensor1D([1, 1]),\n",
    "], [\n",
    "  tensor1D([0]),\n",
    "  tensor1D([1]),\n",
    "  tensor1D([1]),\n",
    "  tensor1D([0])\n",
    "])"
   ]
  }
 ],
 "metadata": {
  "kernelspec": {
   "display_name": "Deno",
   "language": "typescript",
   "name": "deno"
  },
  "language_info": {
   "file_extension": ".ts",
   "mimetype": "text/x.typescript",
   "name": "typescript",
   "nb_converter": "script",
   "pygments_lexer": "typescript",
   "version": "5.2.2"
  }
 },
 "nbformat": 4,
 "nbformat_minor": 2
}
