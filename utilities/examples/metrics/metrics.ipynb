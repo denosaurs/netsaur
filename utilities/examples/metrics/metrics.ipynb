{
 "cells": [
  {
   "cell_type": "code",
   "execution_count": 2,
   "metadata": {},
   "outputs": [
    {
     "name": "stdout",
     "output_type": "stream",
     "text": [
      "training time: 140.43580000003567ms\n"
     ]
    }
   ],
   "source": [
    "import {\n",
    "  Cost,\n",
    "  CPU,\n",
    "  DenseLayer,\n",
    "  Sequential,\n",
    "  setupBackend,\n",
    "  SigmoidLayer,\n",
    "  tensor1D,\n",
    "  tensor2D,\n",
    "} from \"https://deno.land/x/netsaur@0.2.14/mod.ts\";\n",
    "\n",
    "import { parse } from \"https://deno.land/std@0.204.0/csv/parse.ts\";\n",
    "\n",
    "// Import helpers for metrics\n",
    "import {\n",
    "  // Metrics\n",
    "  ClassificationReport,\n",
    "  // Split the dataset\n",
    "  useSplit,\n",
    "} from \"../../mod.ts\";\n",
    "\n",
    "// Define classes\n",
    "const classes = [\"Setosa\", \"Versicolor\"];\n",
    "\n",
    "// Read the training dataset\n",
    "const _data = Deno.readTextFileSync(\"binary_iris.csv\");\n",
    "const data = parse(_data);\n",
    "\n",
    "// Get the predictors (x) and targets (y)\n",
    "const x = data.map((fl) => fl.slice(0, 4).map(Number));\n",
    "const y = data.map((fl) => classes.indexOf(fl[4]));\n",
    "\n",
    "// Split the dataset for training and testing\n",
    "const [train, test] = useSplit({ ratio: [7, 3], shuffle: true }, x, y) as [\n",
    "  [typeof x, typeof y],\n",
    "  [typeof x, typeof y],\n",
    "];\n",
    "\n",
    "// Setup the CPU backend for Netsaur\n",
    "await setupBackend(CPU);\n",
    "\n",
    "// Create a sequential neural network\n",
    "const net = new Sequential({\n",
    "  // Set number of minibatches to 4\n",
    "  // Set size of output to 4\n",
    "  size: [4, 4],\n",
    "\n",
    "  // Disable logging during training\n",
    "  silent: true,\n",
    "\n",
    "  // Define each layer of the network\n",
    "  layers: [\n",
    "    // A dense layer with 4 neurons\n",
    "    DenseLayer({ size: [4] }),\n",
    "    // A sigmoid activation layer\n",
    "    SigmoidLayer(),\n",
    "    // A dense layer with 1 neuron\n",
    "    DenseLayer({ size: [1] }),\n",
    "    // Another sigmoid layer\n",
    "    SigmoidLayer(),\n",
    "  ],\n",
    "  // We are using MSE for finding cost\n",
    "  cost: Cost.MSE,\n",
    "});\n",
    "\n",
    "const time = performance.now();\n",
    "\n",
    "// Train the network\n",
    "net.train(\n",
    "  [\n",
    "    {\n",
    "      inputs: tensor2D(train[0]),\n",
    "      outputs: tensor2D(train[1].map((x) => [x])),\n",
    "    },\n",
    "  ],\n",
    "  // Train for 10000 epochs\n",
    "  10000,\n",
    ");\n",
    "\n",
    "console.log(`training time: ${performance.now() - time}ms`);"
   ]
  },
  {
   "cell_type": "code",
   "execution_count": 3,
   "metadata": {},
   "outputs": [
    {
     "data": {
      "text/html": [
       "<h3>Classification Report</h3><br>Number of classes:\t2\n",
       "<h3>Confusion Matrices</h3><br><br>Class: 0<table><thead><tr><th></th><th>P</th><th>N</th></tr><tr><td>P</td><td>16</td><td>0</td></tr><tr><td>N</td><td>0</td><td>14</td></table><br>Accuracy: 1<br>Precision: 1<br>Recall: 1<br>Specificity: 1<br>F1 Score: 1<br><br>Class: 1<table><thead><tr><th></th><th>P</th><th>N</th></tr><tr><td>P</td><td>14</td><td>0</td></tr><tr><td>N</td><td>0</td><td>16</td></table><br>Accuracy: 1<br>Precision: 1<br>Recall: 1<br>Specificity: 1<br>F1 Score: 1"
      ],
      "text/plain": [
       "Classification Report\n",
       "Number of classes:\t2\n",
       "\n",
       "==================\n",
       "Confusion Matrices\n",
       "==================\n",
       "\n",
       "Class: 0\n",
       "\tP\tN\n",
       "P\t16\t0\n",
       "N\t0\t14\n",
       "Accuracy: 1\n",
       "Precision: 1\n",
       "Recall: 1\n",
       "Specificity: 1\n",
       "F1 Score: 1\n",
       "\n",
       "Class: 1\n",
       "\tP\tN\n",
       "P\t14\t0\n",
       "N\t0\t16\n",
       "Accuracy: 1\n",
       "Precision: 1\n",
       "Recall: 1\n",
       "Specificity: 1\n",
       "F1 Score: 1\n"
      ]
     },
     "execution_count": 3,
     "metadata": {},
     "output_type": "execute_result"
    }
   ],
   "source": [
    "const res = await Promise.all(\n",
    "  test[0].map((input) => net.predict(tensor1D(input))),\n",
    ");\n",
    "const y1 = res.map((x) => x.data[0] < 0.5 ? 0 : 1);\n",
    "const cMatrix = new ClassificationReport(test[1], y1);\n",
    "cMatrix;"
   ]
  },
  {
   "cell_type": "code",
   "execution_count": null,
   "metadata": {},
   "outputs": [],
   "source": []
  }
 ],
 "metadata": {
  "kernelspec": {
   "display_name": "Deno",
   "language": "typescript",
   "name": "deno"
  },
  "language_info": {
   "file_extension": ".ts",
   "mimetype": "text/x.typescript",
   "name": "typescript",
   "nb_converter": "script",
   "pygments_lexer": "typescript",
   "version": "5.3.3"
  }
 },
 "nbformat": 4,
 "nbformat_minor": 2
}
